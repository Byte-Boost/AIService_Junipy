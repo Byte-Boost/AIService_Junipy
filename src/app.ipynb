{
 "cells": [
  {
   "cell_type": "markdown",
   "id": "68b28572",
   "metadata": {},
   "source": [
    "# Formatando dados - Tabela TBCA"
   ]
  },
  {
   "cell_type": "markdown",
   "id": "8751ac4d",
   "metadata": {},
   "source": [
    "## Setup"
   ]
  },
  {
   "cell_type": "markdown",
   "id": "c40d8971",
   "metadata": {},
   "source": [
    "### Imports"
   ]
  },
  {
   "cell_type": "code",
   "execution_count": 1,
   "id": "c780a5e6",
   "metadata": {},
   "outputs": [],
   "source": [
    "import pandas as pd"
   ]
  },
  {
   "cell_type": "markdown",
   "id": "ae38169d",
   "metadata": {},
   "source": [
    "### Baixar o CSV do site kaggle.com"
   ]
  },
  {
   "cell_type": "code",
   "execution_count": null,
   "id": "16343fdb",
   "metadata": {},
   "outputs": [],
   "source": [
    "import kagglehub\n",
    "\n",
    "# Download latest version\n",
    "path = kagglehub.dataset_download(\"claudiapastorello/tbca-tabela-brasileira-de-composio-alimentos\")\n",
    "\n",
    "print(\"Path to dataset files:\", path)"
   ]
  },
  {
   "cell_type": "markdown",
   "id": "3f602f58",
   "metadata": {},
   "source": [
    "## Hands On"
   ]
  },
  {
   "cell_type": "markdown",
   "id": "8225710d",
   "metadata": {},
   "source": [
    "### Carregando CSV"
   ]
  },
  {
   "cell_type": "code",
   "execution_count": null,
   "id": "72ff9b55",
   "metadata": {},
   "outputs": [],
   "source": [
    "tbca = pd.read_csv(\"../docs/datasets/TBCA_20223103csv.csv\", sep=\";\", usecols=range(39))\n",
    "# sep - usa ';' como separador de colunas\n",
    "# usecols - carrega as primeiras 39 colunas      \n",
    "\n",
    "tbca.head(10) #39 primeiras colunas relevantes"
   ]
  },
  {
   "cell_type": "markdown",
   "id": "7dc2953b",
   "metadata": {},
   "source": [
    "### Tratando os dados"
   ]
  },
  {
   "cell_type": "code",
   "execution_count": 61,
   "id": "4e702a30",
   "metadata": {},
   "outputs": [],
   "source": [
    "formattedTBCA = tbca\n",
    "\n",
    "for col in formattedTBCA.columns:\n",
    "    formattedTBCA[col] = formattedTBCA[col].replace(pd.NA, \"0\")\n",
    "\n",
    "pd.isnull(formattedTBCA[\"Colesterol\"])\n",
    "\n",
    "tbca.to_csv(\"../docs/datasets/formattedTBCA.csv\", index=False)\n"
   ]
  }
 ],
 "metadata": {
  "kernelspec": {
   "display_name": "venv",
   "language": "python",
   "name": "python3"
  },
  "language_info": {
   "codemirror_mode": {
    "name": "ipython",
    "version": 3
   },
   "file_extension": ".py",
   "mimetype": "text/x-python",
   "name": "python",
   "nbconvert_exporter": "python",
   "pygments_lexer": "ipython3",
   "version": "3.13.1"
  }
 },
 "nbformat": 4,
 "nbformat_minor": 5
}
