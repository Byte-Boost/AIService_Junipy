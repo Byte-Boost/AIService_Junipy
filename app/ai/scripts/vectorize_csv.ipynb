{
 "cells": [
  {
   "cell_type": "markdown",
   "metadata": {},
   "source": [
    "# Vetorização dos CSV"
   ]
  },
  {
   "cell_type": "markdown",
   "metadata": {},
   "source": [
    "## Setup"
   ]
  },
  {
   "cell_type": "markdown",
   "metadata": {},
   "source": [
    "### Imports\n"
   ]
  },
  {
   "cell_type": "code",
   "execution_count": null,
   "metadata": {},
   "outputs": [],
   "source": [
    "import chromadb\n",
    "import uuid\n",
    "import csv"
   ]
  },
  {
   "cell_type": "markdown",
   "metadata": {},
   "source": [
    "### Estabelecendo conexão com o chromadb"
   ]
  },
  {
   "cell_type": "code",
   "execution_count": null,
   "metadata": {},
   "outputs": [],
   "source": [
    "client = chromadb.Client()"
   ]
  },
  {
   "cell_type": "markdown",
   "metadata": {},
   "source": [
    "### Criando/Carregando Collections"
   ]
  },
  {
   "cell_type": "code",
   "execution_count": null,
   "metadata": {},
   "outputs": [],
   "source": [
    "nutrition = client.get_or_create_collection(name=\"nutrition\")"
   ]
  },
  {
   "cell_type": "markdown",
   "metadata": {},
   "source": [
    "### Carregando Arquivos"
   ]
  },
  {
   "cell_type": "markdown",
   "metadata": {},
   "source": [
    "#### Tabela TACO"
   ]
  },
  {
   "cell_type": "code",
   "execution_count": null,
   "metadata": {},
   "outputs": [],
   "source": [
    "taco_rows = []\n",
    "\n",
    "with open(\"../../../docs/datasets/formattedTACO.csv\", \"r\", encoding=\"utf-8\") as f:\n",
    "    reader = csv.DictReader(f)  # lê como dicionários\n",
    "    for row in reader:\n",
    "        # transforma a linha em texto descritivo\n",
    "        taco_rows.append(row)\n",
    "\n",
    "taco_chunks = []\n",
    "\n",
    "for row in taco_rows:\n",
    "    chunk = \"\"\n",
    "    #for key in row.keys():\n",
    "    #    chunk += \" \" + str(key) # chave\n",
    "    #    chunk += \": \" + str(row[key]) + \",\" # valor\n",
    "    chunk += f\"O alimento {row['nome']} tem {row['umidade_(%)']}% de umidade, {row['energia_(kcal)']}kcal de energia, {row['energia_(kj)']}kj de energia, {row['proteina_(g)']}g de proteína, {row['lipideos_(g)']}g de lipídeos, {row['colesterol_(mg)']}mg de colesterol, {row['carboidrato_(g)']}g de carboídrato, {row['fibra_alimentar_(g)']}g de fibra alimentar, {row['cinzas_(g)']}g de cinzas, {row['calcio_(mg)']}mg de cálcio e {row['magnesio_(mg)']}mg de magnésio\"\n",
    "    taco_chunks.append(chunk)\n",
    "\n",
    "print(taco_chunks)"
   ]
  },
  {
   "cell_type": "markdown",
   "metadata": {},
   "source": [
    "#### Tabela TBCA"
   ]
  },
  {
   "cell_type": "code",
   "execution_count": null,
   "metadata": {},
   "outputs": [],
   "source": [
    "tbca_rows = []\n",
    "\n",
    "with open(\"../../../docs/datasets/formattedTBCA.csv\", \"r\", encoding=\"utf-8\") as f:\n",
    "    reader = csv.DictReader(f, delimiter=\";\")  # lê como dicionários\n",
    "    for row in reader:\n",
    "        # transforma a linha em texto descritivo\n",
    "        tbca_rows.append(row)\n",
    "\n",
    "tbca_chunks = []\n",
    "\n",
    "for row in tbca_rows:\n",
    "    chunk = \"\"\n",
    "    #for key in row.keys():\n",
    "    #    chunk += \" \" + str(key) # chave\n",
    "    #    chunk += \": \" + str(row[key]) + \",\" # valor\n",
    "    chunk += f\"O alimento {row['alimento'].replace(\",\", \"\").strip()} tem {row['energia_kj']}kj de energia, {row['energia_kcal']}kcal de energia, {row['umidade_g']}g de umidade, {row['carboidrato_total']}g de carboidrato total, {row['carboidrato_disponivel']}g de carboidrato disponivel, {row['proteina']}g de proteina, {row['lipidios']}g de lipidios, {row['fibra_alimentar']}g de fibra alimentar, {row['alcool']}g de alcool, {row['cinzas']}g de cinzas, {row['colesterol']}mg de colesterol, {row['acidos_graxos_saturados']}g de acidos graxos saturados, {row['acidos_graxos_monoinsaturados']}g de acidos graxos monoinsaturados, {row['acidos_graxos_polinsaturados']}g de acidos graxos polinsaturados, {row['acidos_graxos_trans']}g de acidos graxos trans, {row['calcio']}mg de calcio, {row['ferro']}mg de ferro, {row['sodio']}mg de sodio, {row['magnesio']}mg de magnesio, {row['fosforo']}mg de fosforo, {row['potassio']}mg de potassio, {row['zinco']}mg de zinco, {row['cobre']}mg de cobre, {row['selenio']}mcg de selenio, {row['vitamina_a_(re)']}mcg de vitamina a(re), {row['vitamina_a_(rae)']}mcg de vitamina a(rae), {row['vitamina_d']}mcg de vitamina d, {row['alfa-tocoferol_(vitamina_e)']}mg de alfa tocoferol ou vitamina e, {row['tiamina']}mg de tiamina, {row['riboflavina']}mg de riboflavina, {row['niacina']}mg de niacina, {row['vitamina_b6']}mg de vitamina b6, {row['vitamina_b12']}mcg de vitamina b12, {row['vitamina_c']}mg de vitamina c, {row['equivalente_de_folato']}mcg de equivalente de folato, {row['sal_de_adicao']}g de sal de adicao, {row['acucar_de_adicao']}g de acucar de adicao\"\n",
    "    tbca_chunks.append(chunk)\n",
    "\n",
    "print(tbca_chunks[0])"
   ]
  },
  {
   "cell_type": "markdown",
   "metadata": {},
   "source": [
    "### Embeddings"
   ]
  },
  {
   "cell_type": "code",
   "execution_count": null,
   "metadata": {},
   "outputs": [],
   "source": [
    "from sentence_transformers import SentenceTransformer\n",
    "\n",
    "model = SentenceTransformer('all-MiniLM-L6-v2')\n",
    "\n",
    "taco_embeddings = model.encode(taco_chunks, convert_to_numpy=True)\n",
    "print(f\"Embeddings gerados: {taco_embeddings.shape}\")\n",
    "tbca_embeddings = model.encode(tbca_chunks, convert_to_numpy=True)\n",
    "print(f\"Embeddings gerados: {tbca_embeddings.shape}\")"
   ]
  },
  {
   "cell_type": "markdown",
   "metadata": {},
   "source": [
    "### Adicionando coleções"
   ]
  },
  {
   "cell_type": "code",
   "execution_count": null,
   "metadata": {},
   "outputs": [],
   "source": [
    "# TACO\n",
    "nutrition.add(\n",
    "    ids=[str(uuid.uuid4()) for _ in taco_chunks],\n",
    "    documents=taco_chunks,\n",
    "    embeddings=taco_embeddings,\n",
    "    metadatas=[{\"origem\":\"taco\"} for _ in taco_chunks]\n",
    ")\n",
    "# TBCA\n",
    "nutrition.add(\n",
    "    ids=[str(uuid.uuid4()) for _ in tbca_chunks],\n",
    "    documents=tbca_chunks,\n",
    "    embeddings=tbca_embeddings,\n",
    "    metadatas=[{\"origem\": \"tbca\"} for _ in tbca_chunks]\n",
    ")"
   ]
  },
  {
   "cell_type": "markdown",
   "metadata": {},
   "source": [
    "### Queries de teste"
   ]
  },
  {
   "cell_type": "code",
   "execution_count": null,
   "metadata": {},
   "outputs": [],
   "source": [
    "#import numpy as np\n",
    "\n",
    "results = nutrition.query(\n",
    "    query_texts=[\n",
    "        \"Quanto de proteína tem o arroz integral cru?\",\n",
    "        \"Quanto de carboidrato tem o biscoito doce maisena?\",\n",
    "        \"Qual alimento possui mais magnésio?\",\n",
    "        \"Qual alimento tem maior fibra alimentar?\"\n",
    "    ],\n",
    "    n_results=5,\n",
    "    # where={\"origem\": \"taco\"}\n",
    ")\n",
    "\n",
    "for i, query_results in enumerate(results[\"documents\"]):\n",
    "    print(f\"\\nQuery {i}\")\n",
    "    print(\"\\n\".join(query_results))"
   ]
  }
 ],
 "metadata": {
  "kernelspec": {
   "display_name": "venv",
   "language": "python",
   "name": "python3"
  },
  "language_info": {
   "codemirror_mode": {
    "name": "ipython",
    "version": 3
   },
   "file_extension": ".py",
   "mimetype": "text/x-python",
   "name": "python",
   "nbconvert_exporter": "python",
   "pygments_lexer": "ipython3",
   "version": "3.13.5"
  }
 },
 "nbformat": 4,
 "nbformat_minor": 2
}
