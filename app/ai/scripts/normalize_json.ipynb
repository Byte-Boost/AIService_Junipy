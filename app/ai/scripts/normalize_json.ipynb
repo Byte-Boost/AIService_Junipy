{
 "cells": [
  {
   "cell_type": "markdown",
   "metadata": {},
   "source": [
    "# Formatação de JSON"
   ]
  },
  {
   "cell_type": "markdown",
   "metadata": {},
   "source": [
    "## Setup"
   ]
  },
  {
   "cell_type": "markdown",
   "metadata": {},
   "source": [
    "### Imports"
   ]
  },
  {
   "cell_type": "code",
   "execution_count": 1,
   "metadata": {},
   "outputs": [
    {
     "name": "stderr",
     "output_type": "stream",
     "text": [
      "c:\\Users\\flash\\Documents\\GitHub\\AIService_Junipy\\venv\\Lib\\site-packages\\tqdm\\auto.py:21: TqdmWarning: IProgress not found. Please update jupyter and ipywidgets. See https://ipywidgets.readthedocs.io/en/stable/user_install.html\n",
      "  from .autonotebook import tqdm as notebook_tqdm\n"
     ]
    },
    {
     "name": "stdout",
     "output_type": "stream",
     "text": [
      "WARNING:tensorflow:From c:\\Users\\flash\\Documents\\GitHub\\AIService_Junipy\\venv\\Lib\\site-packages\\tf_keras\\src\\losses.py:2976: The name tf.losses.sparse_softmax_cross_entropy is deprecated. Please use tf.compat.v1.losses.sparse_softmax_cross_entropy instead.\n",
      "\n"
     ]
    },
    {
     "name": "stderr",
     "output_type": "stream",
     "text": [
      "[nltk_data] Downloading package stopwords to\n",
      "[nltk_data]     C:\\Users\\flash\\AppData\\Roaming\\nltk_data...\n",
      "[nltk_data]   Package stopwords is already up-to-date!\n",
      "[nltk_data] Downloading package punkt to\n",
      "[nltk_data]     C:\\Users\\flash\\AppData\\Roaming\\nltk_data...\n",
      "[nltk_data]   Package punkt is already up-to-date!\n",
      "[nltk_data] Downloading package punkt_tab to\n",
      "[nltk_data]     C:\\Users\\flash\\AppData\\Roaming\\nltk_data...\n",
      "[nltk_data]   Package punkt_tab is already up-to-date!\n",
      "[nltk_data] Downloading package wordnet to\n",
      "[nltk_data]     C:\\Users\\flash\\AppData\\Roaming\\nltk_data...\n",
      "[nltk_data]   Package wordnet is already up-to-date!\n",
      "[nltk_data] Downloading package omw-1.4 to\n",
      "[nltk_data]     C:\\Users\\flash\\AppData\\Roaming\\nltk_data...\n",
      "[nltk_data]   Package omw-1.4 is already up-to-date!\n",
      "[nltk_data] Downloading package averaged_perceptron_tagger to\n",
      "[nltk_data]     C:\\Users\\flash\\AppData\\Roaming\\nltk_data...\n",
      "[nltk_data]   Package averaged_perceptron_tagger is already up-to-\n",
      "[nltk_data]       date!\n"
     ]
    },
    {
     "data": {
      "text/plain": [
       "True"
      ]
     },
     "execution_count": 1,
     "metadata": {},
     "output_type": "execute_result"
    }
   ],
   "source": [
    "import json\n",
    "import pandas as pd\n",
    "import re\n",
    "import chromadb\n",
    "from sentence_transformers import SentenceTransformer\n",
    "import tensorflow as tf\n",
    "import nltk\n",
    "from tensorflow.keras.preprocessing.text import Tokenizer\n",
    "import spacy\n",
    "from tensorflow.keras.preprocessing.sequence import pad_sequences\n",
    "from nltk.stem import WordNetLemmatizer\n",
    "from nltk.corpus import stopwords\n",
    "from nltk.corpus import wordnet\n",
    "from nltk.tokenize import word_tokenize\n",
    "nltk.download('stopwords')\n",
    "nltk.download('punkt')\n",
    "nltk.download('punkt_tab')\n",
    "nltk.download('wordnet')\n",
    "nltk.download('omw-1.4')\n",
    "nltk.download('averaged_perceptron_tagger')"
   ]
  },
  {
   "cell_type": "markdown",
   "metadata": {},
   "source": [
    "### Estabelecendo conexão com o chromadb"
   ]
  },
  {
   "cell_type": "code",
   "execution_count": 2,
   "metadata": {},
   "outputs": [],
   "source": [
    "client = chromadb.PersistentClient(path=\"../../../docs/my_db\")"
   ]
  },
  {
   "cell_type": "markdown",
   "metadata": {},
   "source": [
    "### Criando/Carregando Collections"
   ]
  },
  {
   "cell_type": "code",
   "execution_count": 3,
   "metadata": {},
   "outputs": [],
   "source": [
    "# nutrition = client.get_or_create_collection(name=\"nutrition\")\n",
    "comorbidity = client.get_or_create_collection(name=\"comorbidity\")"
   ]
  },
  {
   "cell_type": "markdown",
   "metadata": {},
   "source": [
    "## Json's"
   ]
  },
  {
   "cell_type": "code",
   "execution_count": 83,
   "metadata": {},
   "outputs": [],
   "source": [
    "docs = \"../../../docs/datasets/Dietary Guidelines for Americans.json\""
   ]
  },
  {
   "cell_type": "code",
   "execution_count": 95,
   "metadata": {},
   "outputs": [],
   "source": [
    "docs = \"../../../docs/datasets/KDOQI CLINICAL PRACTICE GUIDELINE FOR NUTRITION IN CKD 2020 UPDATE.json\""
   ]
  },
  {
   "cell_type": "code",
   "execution_count": 72,
   "metadata": {},
   "outputs": [],
   "source": [
    "docs = \"../../../docs/datasets/protocolo.json\""
   ]
  },
  {
   "cell_type": "code",
   "execution_count": 106,
   "metadata": {},
   "outputs": [],
   "source": [
    "docs = \"../../../docs/datasets/Management of Heart Failure.json\""
   ]
  },
  {
   "cell_type": "code",
   "execution_count": 60,
   "metadata": {},
   "outputs": [],
   "source": [
    "docs = \"../../../docs/datasets/Terapia Nutricional no Diabetes tipo 1.json\""
   ]
  },
  {
   "cell_type": "code",
   "execution_count": 117,
   "metadata": {},
   "outputs": [],
   "source": [
    "docs = \"../../../docs/datasets/Brazilian Guidelines of Hypertension – 2020.json\""
   ]
  },
  {
   "cell_type": "code",
   "execution_count": 4,
   "metadata": {},
   "outputs": [],
   "source": [
    "docs = \"../../../docs/datasets/Nutrição na insuficiencia renal.json\""
   ]
  },
  {
   "cell_type": "markdown",
   "metadata": {},
   "source": [
    "## Normalização"
   ]
  },
  {
   "cell_type": "code",
   "execution_count": 5,
   "metadata": {},
   "outputs": [
    {
     "name": "stdout",
     "output_type": "stream",
     "text": [
      "      pagina   tipo                                           conteudo  \\\n",
      "0          1  texto       CLINICAL PRACTICE GUIDELINE FOR NUTRITION IN   \n",
      "1          1  texto                CHRONIC KIDNEY DISEASE: 2019 UPDATE   \n",
      "2          1  texto                                Public Review DRAFT   \n",
      "3          1  texto                                       October 2019   \n",
      "4          1  texto                                             Page 1   \n",
      "...      ...    ...                                                ...   \n",
      "7308     236  texto  512. Juraschek SP, Miller ER, 3rd, Weaver CM, ...   \n",
      "7309     236  texto  Diet in Relation to Baseline Blood Pressure. J...   \n",
      "7310     236  texto  513. Aaron KJ, Sanders PW. Role of dietary sal...   \n",
      "7311     236  texto  disease: a review of the evidence. Mayo Clin P...   \n",
      "7312     236  texto             Guideline on Nutrition in CKD Page 235   \n",
      "\n",
      "      indice_tabela conteudo_dict conteudo_texto  \n",
      "0               NaN           NaN            NaN  \n",
      "1               NaN           NaN            NaN  \n",
      "2               NaN           NaN            NaN  \n",
      "3               NaN           NaN            NaN  \n",
      "4               NaN           NaN            NaN  \n",
      "...             ...           ...            ...  \n",
      "7308            NaN           NaN            NaN  \n",
      "7309            NaN           NaN            NaN  \n",
      "7310            NaN           NaN            NaN  \n",
      "7311            NaN           NaN            NaN  \n",
      "7312            NaN           NaN            NaN  \n",
      "\n",
      "[7313 rows x 6 columns]\n"
     ]
    }
   ],
   "source": [
    "df = pd.read_json(docs)\n",
    "\n",
    "print(df)"
   ]
  },
  {
   "cell_type": "code",
   "execution_count": 6,
   "metadata": {},
   "outputs": [
    {
     "name": "stdout",
     "output_type": "stream",
     "text": [
      "                                               conteudo\n",
      "0          CLINICAL PRACTICE GUIDELINE FOR NUTRITION IN\n",
      "1                   CHRONIC KIDNEY DISEASE: 2019 UPDATE\n",
      "2                                   Public Review DRAFT\n",
      "3                                          October 2019\n",
      "4                                                Page 1\n",
      "...                                                 ...\n",
      "7308  512. Juraschek SP, Miller ER, 3rd, Weaver CM, ...\n",
      "7309  Diet in Relation to Baseline Blood Pressure. J...\n",
      "7310  513. Aaron KJ, Sanders PW. Role of dietary sal...\n",
      "7311  disease: a review of the evidence. Mayo Clin P...\n",
      "7312             Guideline on Nutrition in CKD Page 235\n",
      "\n",
      "[7308 rows x 1 columns]\n"
     ]
    }
   ],
   "source": [
    "df = df[[\"conteudo\"]]\n",
    "\n",
    "df[\"conteudo\"] = df[\"conteudo\"].str.strip()\n",
    "df = df[df[\"conteudo\"].notnull() & (df[\"conteudo\"] != \"\")]\n",
    "df.to_json(\"../../../docs/datasets/df_normalizado.json\", orient=\"records\", force_ascii=False, indent=2)\n",
    "\n",
    "print(df)\n"
   ]
  },
  {
   "cell_type": "code",
   "execution_count": 7,
   "metadata": {},
   "outputs": [
    {
     "data": {
      "text/plain": [
       "<bound method NDFrame.head of                                                conteudo\n",
       "0          CLINICAL PRACTICE GUIDELINE FOR NUTRITION IN\n",
       "1                   CHRONIC KIDNEY DISEASE: 2019 UPDATE\n",
       "2                                   Public Review DRAFT\n",
       "3                                          October 2019\n",
       "4                                                Page 1\n",
       "...                                                 ...\n",
       "7303  512. Juraschek SP, Miller ER, 3rd, Weaver CM, ...\n",
       "7304  Diet in Relation to Baseline Blood Pressure. J...\n",
       "7305  513. Aaron KJ, Sanders PW. Role of dietary sal...\n",
       "7306  disease: a review of the evidence. Mayo Clin P...\n",
       "7307             Guideline on Nutrition in CKD Page 235\n",
       "\n",
       "[7308 rows x 1 columns]>"
      ]
     },
     "execution_count": 7,
     "metadata": {},
     "output_type": "execute_result"
    }
   ],
   "source": [
    "arquivo =\"../../../docs/datasets/df_normalizado.json\"\n",
    "\n",
    "with open(arquivo, \"r\", encoding=\"utf-8\") as f:\n",
    "    dados = json.load(f)\n",
    "\n",
    "df = pd.DataFrame(dados)\n",
    "df.head"
   ]
  },
  {
   "cell_type": "code",
   "execution_count": 8,
   "metadata": {},
   "outputs": [
    {
     "name": "stdout",
     "output_type": "stream",
     "text": [
      "Chunks:  7308\n",
      "['CLINICAL PRACTICE GUIDELINE FOR NUTRITION IN', 'CHRONIC KIDNEY DISEASE: 2019 UPDATE', 'Public Review DRAFT', 'October 2019', 'Page 1']\n"
     ]
    }
   ],
   "source": [
    "chunks = df[\"conteudo\"].tolist()\n",
    "\n",
    "print(\"Chunks: \", len(chunks))\n",
    "print(chunks[:5])"
   ]
  },
  {
   "cell_type": "code",
   "execution_count": 9,
   "metadata": {},
   "outputs": [
    {
     "name": "stdout",
     "output_type": "stream",
     "text": [
      "CLINICAL PRACTICE GUIDELINE FOR NUTRITION IN CHRONIC KIDNEY DISEASE: 2019 UPDATE Public Review DRAFT October 2019 Page 1 Guideline on Nutrition in CKD SECTION I: USE OF THE CLINICAL PRACTICE GUIDELINE This Clinical Practice Guideline document is based upon the best information available as of April 2017*. It is designed to provide information and assist decision making. It is not intended to define a standard of care, and should not be construed as one, nor should it be interpreted as prescribin\n"
     ]
    }
   ],
   "source": [
    "df_completo = \" \".join(chunks)\n",
    "\n",
    "print(df_completo[:500])"
   ]
  },
  {
   "cell_type": "markdown",
   "metadata": {},
   "source": [
    "## Idioma json"
   ]
  },
  {
   "cell_type": "code",
   "execution_count": 78,
   "metadata": {},
   "outputs": [],
   "source": [
    "api_stop_words = set(stopwords.words('portuguese')) "
   ]
  },
  {
   "cell_type": "code",
   "execution_count": 12,
   "metadata": {},
   "outputs": [],
   "source": [
    "api_stop_words = set(stopwords.words('english'))\n"
   ]
  },
  {
   "cell_type": "markdown",
   "metadata": {},
   "source": [
    "## StopWords"
   ]
  },
  {
   "cell_type": "code",
   "execution_count": 13,
   "metadata": {},
   "outputs": [
    {
     "name": "stdout",
     "output_type": "stream",
     "text": [
      "chunks limpos:  7308\n",
      "['clinical practice guideline nutrition', 'chronic kidney disease: 2019 update', 'public review draft', 'october 2019', 'page 1', 'guideline nutrition ckd', 'section i: use clinical practice guideline', 'clinical practice guideline document based upon best information available', 'april 2017*. designed provide information assist decision making. intended', 'define standard care, construed one, interpreted', 'prescribing exclusive course management. variations practice inevitably', 'appropriately occur clinicians take account needs individual patients, available', 'resources, limitations unique institution type practice. every health-care', 'professional making use recommendations responsible evaluating', 'appropriateness applying setting particular clinical situation.', 'recommendations research contained within document general imply', 'specific protocol.', '*commissioned evidence review included articles published april 2017. consensus', 'opinion statements use literature published though august 2018.', 'section ii: disclosure', 'kidney disease outcomes quality initiative (kdoqi) american academy nutrition', 'dietetics (and) make every effort avoid actual reasonably perceived conflicts', 'interest may arise result outside relationship personal, professional,', 'business interest member work group. members work group required', 'complete, sign, submit disclosure attestation form showing relationships', 'might perceived actual conflicts interest. reported information printed', 'final publication file national kidney foundation (nkf).', 'page 2', 'guideline nutrition ckd', 'table contents', 'table tables……………………………………………………………………………………….……. 4', 'table figures………………………………………………………………………………………….… 4', 'abbreviations acronyms……………………………………………………………………………… 5', 'work group membership…………………………………………………………………………………. 8', 'organization leadership……………………………………………………………..……………………. 9', 'abstract……………………………………………………………………………………………………. na', 'foreword…………………………………………………………………………………………………… na', 'methods……................................................................................................................................................. 10', 'summary guideline statements............................................................................................................... 25', 'guideline 1: assessment……………………………………………………………..……………...…… 36', '1.0 usual care statements 36', '…1.1… t…ech…ni…ca…l d…ev…ic…es …& …an…th…ro…po…me…tri…c m…e…asu…re…m…ent…s t…o m…e…as…ure… b…od…y c…o mposition …………… 36', '1.2 laboratory measures body composition ………………………………………………………. 50', '1.3 handgrip strength …………………………………………………………………………………. 57', '1.4 methods assess energy requirements …………………………………………………………. 59', '1.5 composite nutritional indices measure nutritional status ckd patients …………………... 62', '1.6 tools/methods used assess protein intake calorie intake ………………….……………... 71', 'guideline 2: medical nutrition therapy……………………………………………...………………… 74', 'guideline 3: dietary protein energy intake……………………….………………………………. 82', '3.0 energy intake ………………………………………………………………………………………. 82']\n"
     ]
    }
   ],
   "source": [
    "def remove_stopwords(texto):\n",
    "    palavras = texto.split()\n",
    "    filtradas = [p for p in palavras if p.lower() not in api_stop_words]\n",
    "    return ' '.join(filtradas)\n",
    "    \n",
    "chunks_limpos = [remove_stopwords(chunk) for chunk in chunks]\n",
    "chunks_limpos = [chunk.lower() if isinstance(chunk, str) else chunk for chunk in chunks_limpos]\n",
    "\n",
    "print(\"chunks limpos: \", len(chunks_limpos))\n",
    "print(chunks_limpos[:50])\n",
    "\n",
    "\n",
    "## Json em pt br = APENAS protocolo e terapia nutricional\n",
    "## Todos os outros são em inglês\n",
    "## Eu continuo isso amanhã\n"
   ]
  },
  {
   "cell_type": "markdown",
   "metadata": {},
   "source": [
    "## Lematização Portugues"
   ]
  },
  {
   "cell_type": "code",
   "execution_count": null,
   "metadata": {},
   "outputs": [],
   "source": [
    "\n",
    "nlp = spacy.load(\"pt_core_news_sm\")\n",
    "\n",
    "def tratamento_pln(texto): \n",
    "    doc = nlp(texto) \n",
    "    tokens = [token.text for token in doc]\n",
    "    clean_tokens = [token.lemma_ for token in doc if not token.is_punct] \n",
    "    clean_text = ' '.join(clean_tokens) \n",
    "    return clean_text\n",
    "\n",
    "chunks_lemmatized = [tratamento_pln(chunk) for chunk in chunks_limpos]\n",
    "\n",
    "print(\"chunks lemmatized: \", len(chunks_lemmatized))\n",
    "print(chunks_lemmatized[:50])\n"
   ]
  },
  {
   "cell_type": "markdown",
   "metadata": {},
   "source": [
    "## Lematização Ingles\n"
   ]
  },
  {
   "cell_type": "code",
   "execution_count": 14,
   "metadata": {},
   "outputs": [
    {
     "name": "stdout",
     "output_type": "stream",
     "text": [
      "chunks lematizados:  7308\n",
      "['clinical practice guideline nutrition', 'chronic kidney disease : 2019 update', 'public review draft', 'october 2019', 'page 1', 'guideline nutrition ckd', 'section i : use clinical practice guideline', 'clinical practice guideline document base upon best information available', 'april 2017 * . design provide information assist decision make . intend', 'define standard care , construe one , interpret', 'prescribe exclusive course management . variation practice inevitably', 'appropriately occur clinician take account need individual patient , available', 'resource , limitation unique institution type practice . every health-care', 'professional make use recommendation responsible evaluate', 'appropriateness apply set particular clinical situation .', 'recommendation research contain within document general imply', 'specific protocol .', '* commission evidence review include article publish april 2017. consensus', 'opinion statement use literature publish though august 2018 .', 'section ii : disclosure', 'kidney disease outcome quality initiative ( kdoqi ) american academy nutrition', 'dietetics ( and ) make every effort avoid actual reasonably perceive conflict', 'interest may arise result outside relationship personal , professional ,', 'business interest member work group . member work group require', 'complete , sign , submit disclosure attestation form show relationship', 'might perceive actual conflict interest . report information print', 'final publication file national kidney foundation ( nkf ) .', 'page 2', 'guideline nutrition ckd', 'table content', 'table tables……………………………………………………………………………………….…… . 4', 'table figures………………………………………………………………………………………….… 4', 'abbreviation acronyms……………………………………………………………………………… 5', 'work group membership………………………………………………………………………………… . 8', 'organization leadership…………………………………………………………… .. …………………… . 9', 'abstract…………………………………………………………………………………………………… . na', 'foreword…………………………………………………………………………………………………… na', 'methods…… ................................................................................................................................................. 10', 'summary guideline statement ............................................................................................................... 25', 'guideline 1 : assessment…………………………………………………………… .. …………… ... …… 36', '1.0 usual care statement 36', '…1.1… t…ech…ni…ca…l d…ev…ic…es … & …an…th…ro…po…me…tri…c m…e…asu…re…m…ent…s t…o m…e…as…ure… b…od…y c…o mposition …………… 36', '1.2 laboratory measure body composition ……………………………………………………… . 50', '1.3 handgrip strength ………………………………………………………………………………… . 57', '1.4 method assess energy requirement ………………………………………………………… . 59', '1.5 composite nutritional index measure nutritional status ckd patient ………………… ... 62', '1.6 tools/methods use assess protein intake calorie intake ………………….…………… ... 71', 'guideline 2 : medical nutrition therapy…………………………………………… ... ………………… 74', 'guideline 3 : dietary protein energy intake……………………….……………………………… . 82', '3.0 energy intake ……………………………………………………………………………………… . 82']\n"
     ]
    }
   ],
   "source": [
    "def get_wordnet_pos(word):\n",
    "    tag = nltk.pos_tag([word])[0][1][0].upper()\n",
    "    tag_dict = {\n",
    "        'J': wordnet.ADJ,\n",
    "        'N': wordnet.NOUN,\n",
    "        'V': wordnet.VERB,\n",
    "        'R': wordnet.ADV\n",
    "    }\n",
    "    return tag_dict.get(tag, wordnet.NOUN)  # Padrão: substantivo (NOUN)\n",
    "\n",
    "# Função para lematizar um texto\n",
    "def lemmatize_text(texto):\n",
    "    lemmatizer = WordNetLemmatizer()\n",
    "    tokens = word_tokenize(texto)  # Tokenizar o texto\n",
    "    lemmatized = [lemmatizer.lemmatize(word, get_wordnet_pos(word)) for word in tokens]\n",
    "    return ' '.join(lemmatized)\n",
    "\n",
    "# Aplicar a lematização em chunks_limpos\n",
    "chunks_lemmatized = [lemmatize_text(chunk) for chunk in chunks_limpos]\n",
    "\n",
    "# Exibir os resultados\n",
    "print(\"chunks lematizados: \", len(chunks_lemmatized))\n",
    "print(chunks_lemmatized[:50])"
   ]
  },
  {
   "cell_type": "markdown",
   "metadata": {},
   "source": [
    "## Embedding e Tokenização"
   ]
  },
  {
   "cell_type": "code",
   "execution_count": 15,
   "metadata": {},
   "outputs": [
    {
     "name": "stderr",
     "output_type": "stream",
     "text": [
      "Batches: 100%|██████████| 115/115 [00:20<00:00,  5.73it/s]\n"
     ]
    },
    {
     "name": "stdout",
     "output_type": "stream",
     "text": [
      "Quantidade de embeddings geradas: 7308\n",
      "Exemplo de embedding: [-0.01210896  0.00561677 -0.03571162  0.06816469 -0.05810282  0.01495037\n",
      "  0.00498431  0.089397   -0.09641775 -0.09039714]\n"
     ]
    }
   ],
   "source": [
    "# Inicializar modelo\n",
    "model = SentenceTransformer('all-MiniLM-L6-v2')  # rápido e de alta qualidade\n",
    "\n",
    "# Escolher os chunks: lematizados ou apenas limpos\n",
    "chunks_para_embedding = chunks_lemmatized  # ou chunks_limpos\n",
    "\n",
    "# Gerar embeddings\n",
    "embeddings = model.encode(chunks_para_embedding, batch_size=64, show_progress_bar=True)\n",
    "\n",
    "print(\"Quantidade de embeddings geradas:\", len(embeddings))\n",
    "print(\"Exemplo de embedding:\", embeddings[0][:10])  # mostra os 10 primeiros valores\n"
   ]
  },
  {
   "cell_type": "markdown",
   "metadata": {},
   "source": [
    "## Salvar no Chromadb"
   ]
  },
  {
   "cell_type": "code",
   "execution_count": 16,
   "metadata": {},
   "outputs": [
    {
     "name": "stdout",
     "output_type": "stream",
     "text": [
      "7308 embeddings adicionadas com sucesso!\n"
     ]
    }
   ],
   "source": [
    "import chromadb\n",
    "\n",
    "client = chromadb.PersistentClient(path=\"../../../docs/my_db\")\n",
    "collection = client.get_or_create_collection(name=\"comorbidity\")\n",
    "\n",
    "ids = [f\"doc_{i}\" for i in range(len(embeddings))]\n",
    "documents = chunks_para_embedding  # ou tokens\n",
    "\n",
    "batch_size = 500\n",
    "for i in range(0, len(embeddings), batch_size):\n",
    "    batch_ids = ids[i:i+batch_size]\n",
    "    batch_embeddings = embeddings[i:i+batch_size].tolist()\n",
    "    batch_documents = documents[i:i+batch_size]\n",
    "\n",
    "    collection.add(\n",
    "        ids=batch_ids,\n",
    "        embeddings=batch_embeddings,\n",
    "        documents=batch_documents\n",
    "    )\n",
    "\n",
    "print(f\"{len(embeddings)} embeddings adicionadas com sucesso!\")\n"
   ]
  },
  {
   "cell_type": "markdown",
   "metadata": {},
   "source": [
    "## Querries de teste"
   ]
  },
  {
   "cell_type": "code",
   "execution_count": null,
   "metadata": {},
   "outputs": [
    {
     "name": "stdout",
     "output_type": "stream",
     "text": [
      "\n",
      "Query 0\n",
      "existe dieta padronizada pessoas diabetes tipo 1 , devendo\n",
      "diretriz sociedade brasileira diabetes | 2\n",
      "diretriz sociedade brasileira diabetes | 3\n",
      "diretriz sociedade brasileira diabetes | 20\n",
      "benefícios limitam tipo fibra , fonte tipo diabetes⁴⁹ .\n",
      "\n",
      "Query 1\n",
      "diferença significativa grupos acompanhamento . estudo apresentou\n",
      "saúde especialmente acompanhamento individual potencializar demais\n",
      "objetivos terapia nutricional são :\n",
      "guia alimentar população brasileira .\n",
      "análiser situação saúde plano ação estratégico enfrentamento\n",
      "\n",
      "Query 2\n",
      "tratamento destes pacientes . importante considerar possíveis benefícios\n",
      "condições socioeconômicas , atividade física paciente , avaliar capacidade\n",
      "qualquer indivíduo dm . paciente aprende identificar tamanho porções\n",
      "1. thomopoulos c , parati g , zanchetti a. effect blood-pressure-lowering cardiovascular renal outcome : update systematic review meta-\n",
      "2. packer m , anker sd , butler j , et al . cardiovascular renal outcome\n",
      "\n",
      "Query 3\n",
      "cardiovasculares³¹ . deve priorizado , sempre possível , ingestão alimentos\n",
      "pode aumentar risco doença cardiovascular ( dcv ) mortalidade . subanálise incluiu\n",
      "sementes ( ala ) , prevenir tratar doenças cardiovasculares .\n",
      "menor risco doença cardiovascular ( 16 % cada 5g fibras dia )\n",
      "risco cardiovascular controle glicêmico .\n"
     ]
    }
   ],
   "source": [
    "results = comorbidity.query(\n",
    "    query_texts=[\n",
    "        \"Quais doenças costumam ocorrer junto com diabetes tipo 2?\",\n",
    "        \"Qual comorbidade está mais associada à hipertensão?\",\n",
    "        \"Pacientes com insuficiência renal costumam ter quais outras condições?\",\n",
    "        \"Quais comorbidades aumentam o risco de complicações cardiovasculares?\"\n",
    "    ],\n",
    "    n_results=5,\n",
    "    # where={\"origem\": \"tbca\"}  # ou outro filtro que você tenha\n",
    ")\n",
    "\n",
    "for i, query_results in enumerate(results[\"documents\"]):\n",
    "    print(f\"\\nQuery {i}\")\n",
    "    print(\"\\n\".join(query_results))\n"
   ]
  }
 ],
 "metadata": {
  "kernelspec": {
   "display_name": "venv",
   "language": "python",
   "name": "python3"
  },
  "language_info": {
   "codemirror_mode": {
    "name": "ipython",
    "version": 3
   },
   "file_extension": ".py",
   "mimetype": "text/x-python",
   "name": "python",
   "nbconvert_exporter": "python",
   "pygments_lexer": "ipython3",
   "version": "3.13.7"
  }
 },
 "nbformat": 4,
 "nbformat_minor": 2
}
