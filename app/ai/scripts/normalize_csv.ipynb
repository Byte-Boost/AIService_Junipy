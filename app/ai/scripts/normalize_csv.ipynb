{
 "cells": [
  {
   "cell_type": "markdown",
   "metadata": {},
   "source": [
    "# Formatação das tabelas\n"
   ]
  },
  {
   "cell_type": "markdown",
   "id": "8751ac4d",
   "metadata": {},
   "source": [
    "## Setup"
   ]
  },
  {
   "cell_type": "markdown",
   "id": "c40d8971",
   "metadata": {},
   "source": [
    "### Imports"
   ]
  },
  {
   "cell_type": "code",
   "execution_count": null,
   "id": "c780a5e6",
   "metadata": {},
   "outputs": [],
   "source": [
    "import pandas as pd\n",
    "import re \n",
    "import unicodedata "
   ]
  },
  {
   "cell_type": "markdown",
   "id": "ae38169d",
   "metadata": {},
   "source": [
    "### Baixar o CSV do site kaggle.com"
   ]
  },
  {
   "cell_type": "code",
   "execution_count": null,
   "id": "16343fdb",
   "metadata": {},
   "outputs": [],
   "source": [
    "import kagglehub\n",
    "\n",
    "# Download latest version\n",
    "path = kagglehub.dataset_download(\"claudiapastorello/tbca-tabela-brasileira-de-composio-alimentos\")\n",
    "\n",
    "print(\"Path to dataset files:\", path)"
   ]
  },
  {
   "attachments": {},
   "cell_type": "markdown",
   "id": "4d261be4",
   "metadata": {},
   "source": [
    "### Função para remover acentuação\n"
   ]
  },
  {
   "cell_type": "code",
   "execution_count": null,
   "id": "cb0159ab",
   "metadata": {},
   "outputs": [],
   "source": [
    "def remove_accents(input_str):\n",
    "    if not isinstance(input_str, str):\n",
    "        return input_str\n",
    "\n",
    "    text_normalized = unicodedata.normalize('NFKD', input_str)\n",
    "    only_ascii = text_normalized.encode('ASCII', 'ignore')\n",
    "    return only_ascii.decode('utf-8')"
   ]
  },
  {
   "cell_type": "markdown",
   "id": "68b28572",
   "metadata": {},
   "source": [
    "# Tabela TBCA"
   ]
  },
  {
   "cell_type": "markdown",
   "id": "3f602f58",
   "metadata": {},
   "source": [
    "## Hands On"
   ]
  },
  {
   "cell_type": "markdown",
   "id": "8225710d",
   "metadata": {},
   "source": [
    "### Carregando CSV"
   ]
  },
  {
   "cell_type": "code",
   "execution_count": null,
   "id": "72ff9b55",
   "metadata": {},
   "outputs": [],
   "source": [
    "tbca = pd.read_csv(\"../../../docs/TBCA_20223103csv.csv\", sep=\";\", usecols=range(39))\n",
    "# sep - usa ';' como separador de colunas\n",
    "# usecols - carrega as primeiras 39 colunas      \n",
    "\n",
    "tbca.head(10) #39 primeiras colunas relevantes"
   ]
  },
  {
   "cell_type": "markdown",
   "id": "7dc2953b",
   "metadata": {},
   "source": [
    "### Tratando os dados"
   ]
  },
  {
   "cell_type": "code",
   "execution_count": null,
   "id": "4e702a30",
   "metadata": {},
   "outputs": [],
   "source": [
    "formatted_tbca = tbca.copy()\n",
    "\n",
    "# formatted_tbca.replace(\n",
    "#     [pd.NA, \"tr\"], \"0\"\n",
    "# )\n",
    "\n",
    "for col in formatted_tbca.columns:\n",
    "    formatted_tbca[col] = formatted_tbca[col].replace(pd.NA, \"0\")\n",
    "    formatted_tbca[col] = formatted_tbca[col].replace(\"tr\", \"0\")\n",
    "\n",
    "formatted_tbca.iloc[:, 2:]\n",
    "\n",
    "formatted_tbca = formatted_tbca.map(\n",
    "    lambda x: remove_accents(x) if isinstance(x, str) else x\n",
    ")\n",
    "\n",
    "formatted_tbca.columns = (\n",
    "    formatted_tbca.columns\n",
    "    .str.lower()\n",
    "    .str.strip()\n",
    "    .str.replace(\" \", \"_\")\n",
    "    .map(remove_accents)\n",
    ")\n",
    "\n",
    "if \"alimento\" in formatted_tbca.columns:\n",
    "    formatted_tbca[\"alimento\"] = formatted_tbca[\"alimento\"].str.lower()\n",
    "\n",
    "formatted_tbca.to_csv(\"../../../docs/formattedTBCA.csv\", index=False, sep=\";\")\n",
    "formatted_tbca.head(20).iloc[0, :]"
   ]
  },
  {
   "cell_type": "markdown",
   "id": "914026a8",
   "metadata": {},
   "source": [
    "# Tabela TACO"
   ]
  },
  {
   "cell_type": "markdown",
   "id": "3a765ee4",
   "metadata": {},
   "source": [
    "## Hands On  "
   ]
  },
  {
   "cell_type": "markdown",
   "id": "4abe1a65",
   "metadata": {},
   "source": [
    "### Carregando CSV"
   ]
  },
  {
   "cell_type": "code",
   "execution_count": null,
   "id": "bfb06024",
   "metadata": {},
   "outputs": [],
   "source": [
    "taco = pd.read_csv(\"../../../docs/datasets/TACO.csv\", sep=\",\", usecols=range(13))\n",
    "\n",
    "\n",
    "taco.head(10)"
   ]
  },
  {
   "cell_type": "markdown",
   "id": "0888553a",
   "metadata": {},
   "source": [
    "### Tratando os dados"
   ]
  },
  {
   "cell_type": "code",
   "execution_count": null,
   "id": "511e26de",
   "metadata": {},
   "outputs": [],
   "source": [
    "formatted_taco = taco.copy()\n",
    "\n",
    "# formatted_taco.replace(\n",
    "#     [pd.NA, \" NA\", \" Tr\", \" \"], \"0\"\n",
    "# )\n",
    "\n",
    "for col in formatted_taco.columns:\n",
    "    formatted_taco[col] = formatted_taco[col].replace(pd.NA, \"0\")\n",
    "    formatted_taco[col] = formatted_taco[col].replace(\" NA\", \"0\")\n",
    "    formatted_taco[col] = formatted_taco[col].replace(\" Tr\", \"0\")\n",
    "    formatted_taco[col] = formatted_taco[col].replace(\" \", \"0\")\n",
    "    formatted_taco[col] = formatted_taco[col].replace(\" *\", \"0\")\n",
    "    formatted_taco[col] = formatted_taco[col].apply(remove_accents)\n",
    "\n",
    "# print(type(formattedTACO[' Colesterol (mg)'].iloc[6])) \n",
    "\n",
    "formatted_taco.columns = (\n",
    "    formatted_taco.columns\n",
    "    .str.lower()\n",
    "    .str.strip()\n",
    "    .str.replace(\" \", \"_\")\n",
    "    .map(remove_accents)\n",
    ")\n",
    "\n",
    "if \"nome\" in formatted_taco.columns:\n",
    "    formatted_taco[\"nome\"] = formatted_taco[\"nome\"].str.lower()\n",
    "\n",
    "formatted_taco.to_csv(\"../../../docs/datasets/formattedTACO.csv\", index=False)\n",
    "formatted_taco.head(20)"
   ]
  }
 ],
 "metadata": {
  "kernelspec": {
   "display_name": "venv",
   "language": "python",
   "name": "python3"
  },
  "language_info": {
   "codemirror_mode": {
    "name": "ipython",
    "version": 3
   },
   "file_extension": ".py",
   "mimetype": "text/x-python",
   "name": "python",
   "nbconvert_exporter": "python",
   "pygments_lexer": "ipython3",
   "version": "3.13.5"
  }
 },
 "nbformat": 4,
 "nbformat_minor": 5
}
